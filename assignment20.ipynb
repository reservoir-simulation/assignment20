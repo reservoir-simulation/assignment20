{
 "cells": [
  {
   "cell_type": "markdown",
   "metadata": {},
   "source": [
    "# Homework Assignment 20\n",
    "\n",
    "Consider the two-phase reservoir system below\n",
    "\n",
    "![img](images/grid.png)\n",
    "\n",
    "The reservoir has Corey-Brooks parameters for relative permeabilities \n",
    "\n",
    "$$\n",
    "k_{o,\\mbox{max}} = 1 \\quad k_{w,\\mbox{max}} = 0.2 \\\\\n",
    "k_{wc} = 0.2, \\quad k_{ro} = 0.2 \\\\\n",
    "n_w = 3, \\quad n_o = 3\n",
    "$$\n",
    "\n",
    "The reservoir has an initial water saturation everywhere of $S_i = 0.2$.  Water is injected at the left side and reservoir fluids are produced at the right side (in general, you can assume that any \"rate\" well with a positive value  is water injector and any \"rate\" well with negative values produces reservoir fluids.\n",
    "\n",
    "While this reservoir appears to be one dimensional, you should treat it as if it is two-dimensional with only 1 grid block in the vertical direction.  With this, all of the old tests from [Assignment 17](https://github.com/PGE323M-Fall2018/assignment17/blob/master/assignment17.ipynb) should still pass with the parameters set correctly for single-phase flow (i.e. any multi-phase flow reservoir simulator should be able to replicate a single-phase flow simulator under the correct input parameters).  \n",
    "\n",
    "Use the template code below and implement the class functions `update_pressure()` and `update_saturation()` using the IMPES method.  You may wish to inherit from both `TwoDimReservoir` class from [Assignment 17](https://github.com/PGE323M-Fall2018/assignment17/blob/master/assignment17.ipynb) where your `fill_matrices()` function should already be correctly defined and the `BuckleyLeverett` class from [Assignment 19](https://github.com/PGE323M-Fall2018/assignment19/blob/master/assignment20.ipynb) where you already implemented functions to compute the relative permeabilities via the Corey-Brooks relations; this is call *multiple inheritance* and can be useful in object oriented programming.\n",
    "\n",
    "If you are clever, you may be able to complete the functions below without any changes to `fill_matrices()` from [Assignment 17](https://github.com/PGE323M-Fall2018/assignment17/blob/master/assignment17.ipynb) or even `solve_one_step()` from [Assignment 13](https://github.com/PGE323M-Fall2018/assignment17/blob/master/assignment13.ipynb) (This is the way I worked the problem).\n",
    "\n",
    "**HINTS**\n",
    "\n",
    " * You will need to use \"upwinding\" on the relative permeabilities in computing the transmissibilities\n",
    " \n",
    " * You will need to modify `compute_accumulation()` to account for the saturation dependant total compressibility.\n",
    " \n",
    " * You can ignore the water saturation change to accumualation term in the explicit saturation equation.\n",
    " \n",
    " * If you use inheritance from other assignments, be sure to add the files to your repository upon submission."
   ]
  },
  {
   "cell_type": "code",
   "execution_count": 1,
   "metadata": {
    "collapsed": true
   },
   "outputs": [],
   "source": [
    "import numpy as np\n",
    "\n",
    "class TwoPhaseFlow():\n",
    "    \n",
    "    def __init__(self, inputs):\n",
    "        \n",
    "        #applies the initial reservoir pressues to self.p\n",
    "        self.apply_initial_conditions()\n",
    "        \n",
    "        #create an empty list for storing data if plots are requested\n",
    "        if 'plots' in self.inputs:\n",
    "            self.p_plot = []\n",
    "            self.s_plot = []      \n",
    "        \n",
    "    def apply_initial_conditions(self):\n",
    "        '''\n",
    "            Applies initial pressures to self.p\n",
    "        '''\n",
    "\n",
    "        N = self.ngrids \n",
    "\n",
    "        self.p = np.ones(N) * self.inputs['initial conditions']['pressure']\n",
    "        self.saturation = self.Swi * np.ones(N)\n",
    "\n",
    "        return\n",
    "                    \n",
    "        \n",
    "    def update_pressure(self):\n",
    "        return\n",
    "        \n",
    "    def update_saturation(self):\n",
    "        return\n",
    "    \n",
    "    def solve_one_step(self):\n",
    "        self.update_pressure()\n",
    "        self.update_saturation()\n",
    "        \n",
    "        \n",
    "    def solve(self):\n",
    "        '''\n",
    "            Solves until \"number of time steps\"\n",
    "        '''\n",
    "        \n",
    "        for i in range(self.inputs['numerical']['number of time steps']):\n",
    "            self.solve_one_step()\n",
    "            \n",
    "            if i % self.inputs['plots']['frequency'] == 0:\n",
    "                self.p_plot += [self.p]\n",
    "                self.s_plot += [self.saturation]\n",
    "                \n",
    "        return"
   ]
  },
  {
   "cell_type": "code",
   "execution_count": 7,
   "metadata": {},
   "outputs": [
    {
     "data": {
      "text/plain": [
       "[<matplotlib.lines.Line2D at 0x7fd26b1ba400>]"
      ]
     },
     "execution_count": 7,
     "metadata": {},
     "output_type": "execute_result"
    },
    {
     "data": {
      "image/png": "[encoded data removed]",
      "text/plain": [
       "<Figure size 432x288 with 1 Axes>"
      ]
     },
     "metadata": {},
     "output_type": "display_data"
    }
   ],
   "source": [
    "#You can uncomment the code below to test your code in the Notebook\n",
    "\n",
    "#import matplotlib.pyplot as plt\n",
    "\n",
    "\n",
    "# def setup():\n",
    "\n",
    "#     inputs = {\n",
    "#           'conversion factor': 6.33e-3,\n",
    "#           'reservoir': {\n",
    "#             'permeability': 100, #mD\n",
    "#             'porosity': 0.2,\n",
    "#             'length': 1000, #ft\n",
    "#             'height': 10000, #ft\n",
    "#             'depth': 1, #ft\n",
    "#             'oil': {\n",
    "#                 'residual saturation': 0.2,\n",
    "#                 'corey-brooks exponent': 3.0,\n",
    "#                 'max relative permeability': 1.0,\n",
    "#             },\n",
    "#             'water': {\n",
    "#                 'critical saturation': 0.2,\n",
    "#                 'corey-brooks exponent': 3.0,\n",
    "#                 'max relative permeability': 0.2,\n",
    "#             },\n",
    "#           },\n",
    "#           'fluid': {\n",
    "#               'water': {\n",
    "#                   'viscosity': 1.0,\n",
    "#                   'formation volume factor': 1.0,\n",
    "#                   'compressibility': 1e-5,\n",
    "#               },\n",
    "#               'oil': {\n",
    "#                   'viscosity': 1.0,\n",
    "#                   'formation volume factor': 1.0,\n",
    "#                   'compressibility': 1e-5,\n",
    "#               }\n",
    "#           },\n",
    "#           'initial conditions': {\n",
    "#               'water saturation': 0.2,\n",
    "#               'pressure': 1000 #psi\n",
    "#           },\n",
    "#         'boundary conditions': {\n",
    "#             'left': {\n",
    "#                 'type': 'prescribed flux',\n",
    "#                 'value': 0\n",
    "#             },\n",
    "#             'right': {\n",
    "#                 'type': 'prescribed flux',\n",
    "#                 'value': 0 \n",
    "#             },\n",
    "#             'top': {\n",
    "#                 'type': 'prescribed flux',\n",
    "#                 'value': 0\n",
    "#             },\n",
    "#             'bottom': {\n",
    "#                 'type': 'prescribed flux',\n",
    "#                 'value': 0\n",
    "#             }\n",
    "#         },\n",
    "#         'wells': {\n",
    "#           'rate': {\n",
    "#                     'locations': [(0.01, 0.01), (999.99, 0.01)],\n",
    "#                     'values': [426.5, -426.5],\n",
    "#                     'radii': [0.25, 0.25]\n",
    "#                 },\n",
    "#         },\n",
    "#         'numerical': {\n",
    "#             'number of grids': {\n",
    "#                 'x': 100,\n",
    "#                 'y': 1\n",
    "#             },\n",
    "#             'solver': 'implicit',\n",
    "#             'time step': 10, #day\n",
    "#             'number of time steps' : 100 \n",
    "#         },\n",
    "#         'plots': {\n",
    "#             'frequency': 1\n",
    "#         }\n",
    "#     }\n",
    "    \n",
    "#     return inputs\n",
    "\n",
    "\n",
    "# parameters = setup()\n",
    "\n",
    "# pr = TwoPhaseFlow(parameters)\n",
    "# pr.solve()\n",
    "\n",
    "# %matplotlib inline\n",
    "# plt.plot(pr.saturation)"
   ]
  }
 ],
 "metadata": {
  "kernelspec": {
   "display_name": "Python 3",
   "language": "python",
   "name": "python3"
  },
  "language_info": {
   "codemirror_mode": {
    "name": "ipython",
    "version": 3
   },
   "file_extension": ".py",
   "mimetype": "text/x-python",
   "name": "python",
   "nbconvert_exporter": "python",
   "pygments_lexer": "ipython3",
   "version": "3.6.5"
  },
  "widgets": {
   "application/vnd.jupyter.widget-state+json": {
    "state": {
     "1663839ed5fb466eb506a4125d1e38c9": {
      "model_module": "@jupyter-widgets/controls",
      "model_module_version": "1.0.0",
      "model_name": "FloatSliderModel",
      "state": {
       "description": "t",
       "layout": "IPY_MODEL_d70abe29466f4f73b4407a706c59fbee",
       "max": 0.44,
       "step": 0.001,
       "style": "IPY_MODEL_99b339efb8104f9eb345be3b510889af",
       "value": 0.266
      }
     },
     "64cc8315c13a497bb7e0690840f3badf": {
      "model_module": "@jupyter-widgets/output",
      "model_module_version": "1.0.0",
      "model_name": "OutputModel",
      "state": {
       "layout": "IPY_MODEL_aec4f80051b745a89fc5a0ff54ced5dc",
       "outputs": [
        {
         "data": {
          "image/png": "iVBORw0KGgoAAAANSUhEUgAAAXcAAAD8CAYAAACMwORRAAAABHNCSVQICAgIfAhkiAAAAAlwSFlz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\nQmCC\n",
          "text/plain": "<matplotlib.figure.Figure at 0x117c956a0>"
         },
         "metadata": {},
         "output_type": "display_data"
        }
       ]
      }
     },
     "99b339efb8104f9eb345be3b510889af": {
      "model_module": "@jupyter-widgets/controls",
      "model_module_version": "1.0.0",
      "model_name": "SliderStyleModel",
      "state": {
       "description_width": ""
      }
     },
     "9a897172ffa941ed99c22cea85172a86": {
      "model_module": "@jupyter-widgets/base",
      "model_module_version": "1.0.0",
      "model_name": "LayoutModel",
      "state": {}
     },
     "aec4f80051b745a89fc5a0ff54ced5dc": {
      "model_module": "@jupyter-widgets/base",
      "model_module_version": "1.0.0",
      "model_name": "LayoutModel",
      "state": {}
     },
     "b24492a5990044d7a229fc8b9dc54a91": {
      "model_module": "@jupyter-widgets/controls",
      "model_module_version": "1.0.0",
      "model_name": "VBoxModel",
      "state": {
       "_dom_classes": [
        "widget-interact"
       ],
       "children": [
        "IPY_MODEL_1663839ed5fb466eb506a4125d1e38c9",
        "IPY_MODEL_64cc8315c13a497bb7e0690840f3badf"
       ],
       "layout": "IPY_MODEL_9a897172ffa941ed99c22cea85172a86"
      }
     },
     "d70abe29466f4f73b4407a706c59fbee": {
      "model_module": "@jupyter-widgets/base",
      "model_module_version": "1.0.0",
      "model_name": "LayoutModel",
      "state": {}
     }
    },
    "version_major": 2,
    "version_minor": 0
   }
  }
 },
 "nbformat": 4,
 "nbformat_minor": 2
}
